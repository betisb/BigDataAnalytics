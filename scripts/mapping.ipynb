{
 "cells": [
  {
   "cell_type": "code",
   "execution_count": 1,
   "metadata": {},
   "outputs": [],
   "source": [
    "import pandas as pd\n",
    "import folium\n",
    "import glob as glob\n",
    "import src.preprocess as pre\n",
    "import numpy as np\n",
    "import io\n",
    "from PIL import Image\n",
    "import math as m\n",
    "\n",
    "# GEOLIFE TESTS\n",
    "gpsHeader = ['Latitude', 'Longitude', 'Zero', 'Altitude', 'Num of Days', 'Date', 'Time']\n",
    "\n",
    "# MDC TESTS\n",
    "#gpsHeader = ['Index', 'UID', 'Date', 'Time', 'Longitude', 'Latitude']"
   ]
  },
  {
   "cell_type": "code",
   "execution_count": 2,
   "metadata": {},
   "outputs": [],
   "source": [
    "# ONE FILE\n",
    "pathToFile = \"C:\\\\Users\\\\Betis\\\\PycharmProjects\\\\Big Data\\\\src\\\\user_by_month\\\\000\\\\2008_12.csv\"\n",
    "df = pd.read_csv(pathToFile, names=gpsHeader)\n"
   ]
  },
  {
   "cell_type": "code",
   "execution_count": 3,
   "metadata": {},
   "outputs": [],
   "source": [
    "# WHOLE DIRECTORY\n",
    "\n",
    "pathToDir = 'C:\\\\Users\\\\Betis\\\\PycharmProjects\\\\Big Data\\\\src\\\\user_by_month\\\\000\\\\'\n",
    "glob = glob.glob(pathToDir+'*')\n",
    "\n",
    "df = pd.concat([pd.read_csv(f, names=gpsHeader) for f in glob]) #, header=gpsHeader)"
   ]
  },
  {
   "cell_type": "code",
   "execution_count": 4,
   "metadata": {},
   "outputs": [
    {
     "name": "stdout",
     "output_type": "stream",
     "text": [
      "    Latitude   Longitude  Zero  Altitude   Num of Days        Date      Time\n",
      "0  39.984702  116.318417     0       492  39744.120185  2008-10-23  02:53:04\n",
      "1  39.984683  116.318450     0       492  39744.120255  2008-10-23  02:53:10\n",
      "2  39.984686  116.318417     0       492  39744.120313  2008-10-23  02:53:15\n",
      "3  39.984688  116.318385     0       492  39744.120370  2008-10-23  02:53:20\n",
      "4  39.984655  116.318263     0       492  39744.120428  2008-10-23  02:53:25\n"
     ]
    }
   ],
   "source": [
    "## Bounding Box to save time\n",
    "bb = pre.fetchGeoLocation('Beijing, China')\n",
    "df = pre.dropOutlyingData(df, bb)\n",
    "\n",
    "print(df.head())"
   ]
  },
  {
   "cell_type": "code",
   "execution_count": 5,
   "metadata": {
    "tags": []
   },
   "outputs": [],
   "source": [
    "# time = df[['Time']].to_numpy()\n",
    "df = df[['Latitude','Longitude']] # change to your column names, assume the columns are sorted by time\n",
    "points = [tuple(x) for x in df.to_numpy()]\n",
    "\n",
    "# for i in range(0, len(points)):\n",
    "#     x = points[i]\n",
    "#     a = float(f'{float(f\"{x[0]:.4g}\"):g}')\n",
    "#     b = float(f'{float(f\"{x[1]:.10g}\"):g}')\n",
    "#     points[i] = (a, b)\n",
    "\n",
    "ave_lat = sum(p[0] for p in points)/len(points)\n",
    "ave_lon = sum(p[1] for p in points)/len(points)\n",
    "\n",
    "# Load map centred on average coordinates\n",
    "my_map = folium.Map(location=[ave_lat, ave_lon], zoom_start=14)"
   ]
  },
  {
   "cell_type": "code",
   "execution_count": 6,
   "metadata": {
    "tags": []
   },
   "outputs": [
    {
     "name": "stdout",
     "output_type": "stream",
     "text": [
      "7039\n",
      "134913\n",
      "Unique Tally Values\n",
      "[ 2  3  4  5  6  7  8  9 10 11 12 16]\n",
      "Most Frequent Location\n",
      "(40.003223, 116.327697)\n"
     ]
    }
   ],
   "source": [
    "tally = {}\n",
    "\n",
    "for key in points:\n",
    "    # Check for duplicates\n",
    "    count = points.count(key)\n",
    "    if(count > 1):\n",
    "        # Add 1 to existing key, otherwise set to 1\n",
    "        tally[key] = tally.setdefault(key, 0) + 1\n",
    "    \n",
    "print(len(tally))\n",
    "uniqueTuples = np.unique(points, axis=0)\n",
    "print(len(uniqueTuples))\n",
    "\n",
    "mostFreqLocation = max(tally, key=tally.get)\n",
    "print('Unique Tally Values')\n",
    "print(np.unique(list(tally.values())))\n",
    "print('Most Frequent Location')\n",
    "print(mostFreqLocation)"
   ]
  },
  {
   "cell_type": "code",
   "execution_count": 7,
   "metadata": {
    "tags": []
   },
   "outputs": [
    {
     "data": {
      "text/plain": [
       "<folium.map.Marker at 0x2820e21d070>"
      ]
     },
     "execution_count": 7,
     "metadata": {},
     "output_type": "execute_result"
    }
   ],
   "source": [
    "maxTally = max(tally.values())\n",
    "minTally = min(tally.values())\n",
    "\n",
    "for key in tally.keys():\n",
    "    folium.CircleMarker(key, radius= m.log(tally[key], maxTally), color='red').add_to(my_map)\n",
    "\n",
    "folium.Marker(mostFreqLocation).add_to(my_map)"
   ]
  },
  {
   "cell_type": "code",
   "execution_count": 8,
   "metadata": {},
   "outputs": [],
   "source": [
    "my_map.save(\"./poi.html\")"
   ]
  },
  {
   "cell_type": "code",
   "execution_count": null,
   "metadata": {},
   "outputs": [],
   "source": [
    "tally = {}\n",
    "#add a markers\n",
    "for i in range(0, len(points)):  \n",
    "    folium.CircleMarker(points[i], radius=0.5, color='red').add_to(my_map)\n",
    "    for j in range(0, len(points)):\n",
    "        if(i != j and points[i] == points[j]):\n",
    "            key = points[i]\n",
    "            tally[key] = tally.setdefault(key, 0) + 1\n",
    "\n",
    "for key in tally.keys():\n",
    "    folium.Marker(key).add_to(my_map)\n",
    "#add lines\n",
    "# folium.PolyLine(points, color=\"red\", weight=2.5, opacity=1).add_to(my_map)\n",
    "print(tally)\n",
    "# Save map\n",
    "my_map.save(\"./out.html\")"
   ]
  },
  {
   "cell_type": "code",
   "execution_count": null,
   "metadata": {},
   "outputs": [],
   "source": [
    "mostFreqLocation = max(tally, key=tally.get)\n",
    "print(tally.values())\n",
    "print(mostFreqLocation)"
   ]
  },
  {
   "cell_type": "code",
   "execution_count": null,
   "metadata": {},
   "outputs": [],
   "source": [
    "print(len(tally))"
   ]
  },
  {
   "cell_type": "code",
   "execution_count": null,
   "metadata": {},
   "outputs": [],
   "source": [
    "print(len(time))"
   ]
  }
 ],
 "metadata": {
  "kernelspec": {
   "display_name": "Python 3",
   "language": "python",
   "name": "python3"
  },
  "language_info": {
   "codemirror_mode": {
    "name": "ipython",
    "version": 3
   },
   "file_extension": ".py",
   "mimetype": "text/x-python",
   "name": "python",
   "nbconvert_exporter": "python",
   "pygments_lexer": "ipython3",
   "version": "3.9.12"
  }
 },
 "nbformat": 4,
 "nbformat_minor": 2
}