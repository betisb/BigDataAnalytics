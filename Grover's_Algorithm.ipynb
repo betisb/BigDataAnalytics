{
 "cells": [
  {
   "cell_type": "code",
   "execution_count": 227,
   "metadata": {
    "id": "hOgHDPvmrnjN"
   },
   "outputs": [],
   "source": [
    "# !pip install qiskit\n",
    "# !pip install pylatexenc # restart kernel after this install or else wont be able to qc.draw('mpl)"
   ]
  },
  {
   "cell_type": "code",
   "execution_count": 2,
   "metadata": {
    "id": "UaTl0OVLJFYE"
   },
   "outputs": [],
   "source": [
    "# from qiskit import *\n",
    "# import numpy as np"
   ]
  },
  {
   "cell_type": "code",
   "execution_count": 207,
   "metadata": {
    "id": "eK2E90gWJVDy"
   },
   "outputs": [],
   "source": [
    "# n = 5\n",
    "# qc = QuantumCircuit(n)\n",
    "# qc.ccx(0,1,3)\n",
    "# qc.ccx(2,3,4)\n",
    "# qc.ccx(0,1,3)\n",
    "# #will activate 111\n",
    "# display(qc.draw('mpl')) "
   ]
  },
  {
   "cell_type": "code",
   "execution_count": 208,
   "metadata": {
    "id": "Myhnk_17KbqS"
   },
   "outputs": [],
   "source": [
    "# # this part(uf) will mark the frequency negative so that the diffuer V can keep amplifying the frequency to single a corresponding state \n",
    "# n = 5\n",
    "# qc = QuantumCircuit(n)\n",
    "# qc.x(1)\n",
    "# qc.ccx(0,1,3)\n",
    "# qc.ccx(2,3,4)\n",
    "# qc.ccx(0,1,3)\n",
    "# qc.x(1)\n",
    "# #will activate 101\n",
    "# display(qc.draw('mpl')) \n",
    "\n",
    "# # this part(uf) will mark the frequency negative so that the diffuer V can keep amplifying the frequency to single a corresponding state \n",
    "# n = 5\n",
    "# qc = QuantumCircuit(n)\n",
    "# qc.x(0)\n",
    "# qc.x(1)\n",
    "# qc.ccx(0,1,3)\n",
    "# qc.ccx(2,3,4)\n",
    "# qc.ccx(0,1,3)\n",
    "# qc.x(0)\n",
    "# qc.x(1)\n",
    "# #will activate 101\n",
    "# display(qc.draw('mpl')) "
   ]
  },
  {
   "cell_type": "code",
   "execution_count": 56,
   "metadata": {
    "id": "xmgxvabx6lsW"
   },
   "outputs": [],
   "source": [
    "# # this part(uf) will mark the frequency negative so that the diffuer V can keep amplifying the frequency to single a corresponding state \n",
    "\n",
    "\n",
    "# def phase_oracle(n,name = 'Uf000'):\n",
    "#     qc = QuantumCircuit(n, name=name)\n",
    "#     qc.ccx(0,1,3)\n",
    "#     qc.ccx(2,3,4)\n",
    "#     qc.ccx(0,1,3)\n",
    "#     # display(qc.draw('mpl')) \n",
    "#     return qc"
   ]
  },
  {
   "cell_type": "code",
   "execution_count": 209,
   "metadata": {
    "id": "WlV-zfQ76rqk"
   },
   "outputs": [],
   "source": [
    "# phase_oracle(5)"
   ]
  },
  {
   "cell_type": "code",
   "execution_count": 210,
   "metadata": {
    "id": "q-qwdBDA63ns"
   },
   "outputs": [],
   "source": [
    "# #used for diffuser part which does H|0>H|0>H|0>H|0>..H|0>H|0>H|0> Uf0 H|0>H|0>H|0>H|0>..H|0>H|0>H|0>\n",
    "# n=5\n",
    "# qc = QuantumCircuit(n)\n",
    "# for i in range(n-2):\n",
    "#     qc.x(i)\n",
    "# qc.ccx(0,1,3)\n",
    "# qc.ccx(2,3,4)\n",
    "# qc.ccx(0,1,3)\n",
    "# for i in range(n-2):\n",
    "#     qc.x(i)\n",
    "# qc.draw('mpl')"
   ]
  },
  {
   "cell_type": "code",
   "execution_count": 212,
   "metadata": {
    "id": "0PXQCpXu8OjH"
   },
   "outputs": [],
   "source": [
    "\n",
    "# def diffuser(n, name='V'):\n",
    "#   qc = QuantumCircuit(n, name=name)\n",
    "  \n",
    "#   for qb in range(n-2): #first layer of Hadamards in diffuser\n",
    "#       qc.h(qb)\n",
    "  \n",
    "#   for i in range(n-2):\n",
    "#       qc.x(i)\n",
    "#   qc.ccx(0,1,3)\n",
    "#   qc.ccx(2,3,4)\n",
    "#   qc.ccx(0,1,3)\n",
    "#   for i in range(n-2):\n",
    "#       qc.x(i)\n",
    "  \n",
    "#   for qb in range(n-2): #second layer of Hadamards in diffuser\n",
    "#       qc.h(qb)\n",
    "\n",
    "#   # display(qc.draw('mpl'))  \n",
    "#   return qc"
   ]
  },
  {
   "cell_type": "code",
   "execution_count": null,
   "metadata": {
    "id": "H6mgywIV8flR"
   },
   "outputs": [],
   "source": []
  },
  {
   "cell_type": "code",
   "execution_count": 215,
   "metadata": {
    "id": "ps9CZQuSWWvI"
   },
   "outputs": [],
   "source": [
    "from qiskit import *\n",
    "import numpy as np\n",
    "\n",
    "from qiskit import BasicAer, Aer, execute\n",
    "from qiskit.visualization import plot_histogram\n",
    "\n",
    "# this part(uf) will mark the frequency negative so that the diffuer V can keep amplifying the frequency to single a corresponding state \n",
    "\n",
    "\n",
    "# n = 5\n",
    "def phase_oracle000(n, name = 'Uf001'):\n",
    "    qc = QuantumCircuit(n)\n",
    "    qc.x(0)\n",
    "    qc.x(1)\n",
    "    qc.x(2)\n",
    "    qc.ccx(0,1,3)\n",
    "    qc.ccx(2,3,4)\n",
    "    qc.ccx(0,1,3)\n",
    "    qc.x(0)\n",
    "    qc.x(1)\n",
    "    qc.x(2)\n",
    "    # display(qc.draw('mpl')) \n",
    "    return qc\n",
    "\n",
    "\n",
    "def phase_oracle001(n, name = 'Uf001'):\n",
    "    qc = QuantumCircuit(n, name=name)\n",
    "    qc.x(1)\n",
    "    qc.x(2)\n",
    "    qc.ccx(0,1,3)\n",
    "    qc.ccx(2,3,4)\n",
    "    qc.ccx(0,1,3)\n",
    "    qc.x(1)\n",
    "    qc.x(2)\n",
    "    # qc.ccx(0,1,3)\n",
    "    # qc.ccx(2,3,4)\n",
    "    # qc.ccx(0,1,3)\n",
    "    # display(qc.draw('mpl')) \n",
    "    return qc\n",
    "\n",
    "def phase_oracle010(n, name = 'Uf010'):\n",
    "    qc = QuantumCircuit(n, name=name)\n",
    "    qc.x(0)\n",
    "    qc.x(2)\n",
    "    qc.ccx(0,1,3)\n",
    "    qc.ccx(2,3,4)\n",
    "    qc.ccx(0,1,3)\n",
    "    qc.x(0)\n",
    "    qc.x(2)\n",
    "    # display(qc.draw('mpl')) \n",
    "    return qc    \n",
    "\n",
    "\n",
    "def phase_oracle011(n, name = 'Uf000'):\n",
    "    qc = QuantumCircuit(n, name=name)\n",
    "    qc.x(2)\n",
    "    qc.ccx(0,1,3)\n",
    "    qc.ccx(2,3,4)\n",
    "    qc.ccx(0,1,3)\n",
    "    qc.x(2)\n",
    "    # qc.ccx(0,1,3)\n",
    "    # qc.ccx(2,3,4)\n",
    "    # qc.ccx(0,1,3)\n",
    "    # display(qc.draw('mpl')) \n",
    "    return qc\n",
    "\n",
    "\n",
    "def phase_oracle100(n, name = 'Uf000'):\n",
    "    qc = QuantumCircuit(n, name=name)\n",
    "    qc.x(0)\n",
    "    qc.x(1)\n",
    "    qc.ccx(0,1,3)\n",
    "    qc.ccx(2,3,4)\n",
    "    qc.ccx(0,1,3)\n",
    "    qc.x(0)\n",
    "    qc.x(1)\n",
    "    # display(qc.draw('mpl')) \n",
    "    return qc\n",
    "\n",
    "def phase_oracle101(n, name = 'Uf000'):\n",
    "    qc = QuantumCircuit(n, name=name)\n",
    "    qc.x(1)\n",
    "    qc.ccx(0,1,3)\n",
    "    qc.ccx(2,3,4)\n",
    "    qc.ccx(0,1,3)\n",
    "    qc.x(1)\n",
    "    # qc.ccx(0,1,3)\n",
    "    # qc.ccx(2,3,4)\n",
    "    # qc.ccx(0,1,3)\n",
    "    # display(qc.draw('mpl')) \n",
    "    return qc\n",
    "\n",
    "\n",
    "def phase_oracle110(n, name = 'Uf000'):\n",
    "    qc = QuantumCircuit(n, name=name)\n",
    "    qc.x(0)\n",
    "    qc.ccx(0,1,3)\n",
    "    qc.ccx(2,3,4)\n",
    "    qc.ccx(0,1,3)\n",
    "    qc.x(0)\n",
    "    # qc.ccx(0,1,3)\n",
    "    # qc.ccx(2,3,4)\n",
    "    # qc.ccx(0,1,3)\n",
    "    # display(qc.draw('mpl')) \n",
    "    return qc\n",
    "\n",
    "\n",
    "def phase_oracle111(n,name = 'Uf111'):\n",
    "    qc = QuantumCircuit(n)\n",
    "    qc.ccx(0,1,3)\n",
    "    qc.ccx(2,3,4)\n",
    "    qc.ccx(0,1,3)\n",
    "    # display(qc.draw('mpl')) \n",
    "    return qc\n",
    "\n",
    "def default():\n",
    "    return \"Not a valid number for index search\"\n",
    "\n",
    "\n",
    "# qc.draw('mpl')"
   ]
  },
  {
   "cell_type": "code",
   "execution_count": 226,
   "metadata": {
    "colab": {
     "base_uri": "https://localhost:8080/",
     "height": 645
    },
    "id": "6S0M2Dop8qdN",
    "outputId": "af27cb6b-ab5b-4351-b417-2f52c924ec74"
   },
   "outputs": [
    {
     "data": {
      "image/png": "[encoded data removed]",
      "text/plain": [
       "<Figure size 869.197x385.28 with 1 Axes>"
      ]
     },
     "metadata": {},
     "output_type": "display_data"
    },
    {
     "data": {
      "image/png": "[encoded data removed]",
      "text/plain": [
       "<Figure size 504x360 with 1 Axes>"
      ]
     },
     "execution_count": 226,
     "metadata": {},
     "output_type": "execute_result"
    }
   ],
   "source": [
    "\n",
    "\n",
    "#diffuser for amplitude amplification\n",
    "\n",
    "def diffuser_function(n, name='V'):\n",
    "  qc = QuantumCircuit(n, name=name)\n",
    "  \n",
    "  for qb in range(n-2): #first layer of Hadamards in diffuser\n",
    "      qc.h(qb)\n",
    "  \n",
    "  for i in range(n-2):\n",
    "      qc.x(i)\n",
    "  qc.ccx(0,1,3)\n",
    "  qc.ccx(2,3,4)\n",
    "  qc.ccx(0,1,3)\n",
    "  for i in range(n-2):\n",
    "      qc.x(i)\n",
    "  \n",
    "  for qb in range(n-2): #second layer of Hadamards in diffuser\n",
    "      qc.h(qb)\n",
    "\n",
    "  # display(qc.draw('mpl'))  \n",
    "  return qc\n",
    "\n",
    "n=5 # n qubits \n",
    "\n",
    "def Grover_Search():\n",
    "\n",
    "  grc = QuantumCircuit(n, n-2)\n",
    "  mu=1 #number of solutions\n",
    "\n",
    "  t = int(np.floor(np.pi/4*np.sqrt(2**(n-2)/mu))) # Determine r, number of times I have to run the algorithm\n",
    "      \n",
    "  grc.h(range(n-2))    # step 1: apply Hadamard gates on all working qubits for equal superposition\n",
    "\n",
    "  # put ancilla in state |-> which is the last qubit\n",
    "  grc.x(n-1)\n",
    "  grc.h(n-1)\n",
    "      \n",
    "  # step 2: runs t number of loops to get probabilites \n",
    "  for j in range(t):\n",
    "      grc.append(phase_oracle111(n), range(n)) ## change phase_oracle function for getting probabilities of other numbers \n",
    "      grc.append(diffuser_function(n), range(n))\n",
    "      # grc.compose(phase_oracle(n), range(n))\n",
    "      # grc.compose(diffuser(n), range(n))\n",
    "  grc.measure(range(n-2), range(n-2))    # step 3: measure all qubits\n",
    "      \n",
    "  # display(grc.draw('mpl'))\n",
    "\n",
    "\n",
    "  simulator = Aer.get_backend('qasm_simulator')\n",
    "  job = execute(grc, backend=simulator, shots=1000)\n",
    "  counts = job.result().get_counts()\n",
    "   \n",
    "  return grc, counts \n",
    "\n",
    "grc, counts = Grover_Search()\n",
    "\n",
    "\n",
    "display(grc.draw('mpl'))\n",
    "plot_histogram(counts)\n"
   ]
  },
  {
   "cell_type": "code",
   "execution_count": 222,
   "metadata": {
    "colab": {
     "base_uri": "https://localhost:8080/"
    },
    "id": "af2pcOx1qZTA",
    "outputId": "4f7cde55-4f27-4256-cba2-c71819baa7df"
   },
   "outputs": [
    {
     "data": {
      "text/plain": [
       "949"
      ]
     },
     "execution_count": 222,
     "metadata": {},
     "output_type": "execute_result"
    }
   ],
   "source": [
    "max(counts.values())"
   ]
  },
  {
   "cell_type": "code",
   "execution_count": 144,
   "metadata": {
    "id": "Giq9JAohd9bu"
   },
   "outputs": [],
   "source": []
  }
 ],
 "metadata": {
  "colab": {
   "collapsed_sections": [],
   "name": "Grover's Algorithm.ipynb",
   "provenance": []
  },
  "kernelspec": {
   "display_name": "Python 3",
   "language": "python",
   "name": "python3"
  },
  "language_info": {
   "codemirror_mode": {
    "name": "ipython",
    "version": 3
   },
   "file_extension": ".py",
   "mimetype": "text/x-python",
   "name": "python",
   "nbconvert_exporter": "python",
   "pygments_lexer": "ipython3",
   "version": "3.9.12"
  }
 },
 "nbformat": 4,
 "nbformat_minor": 1
}